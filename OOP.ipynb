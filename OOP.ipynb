{
 "cells": [
  {
   "cell_type": "markdown",
   "id": "44f3f15d",
   "metadata": {},
   "source": [
    "# Classes "
   ]
  },
  {
   "cell_type": "code",
   "execution_count": 7,
   "id": "6493bab7",
   "metadata": {},
   "outputs": [],
   "source": [
    "class Shirt:\n",
    "    def __init__(self,shirt_color,shirt_style,shirt_price,shirt_size):\n",
    "        self.color = shirt_color\n",
    "        self.style = shirt_style\n",
    "        self.price = shirt_price\n",
    "        self.size = shirt_size\n",
    "    \n",
    "    def change_price(self,new_price):\n",
    "        self.price = new_price\n",
    "        \n",
    "    def discount(self,discount):\n",
    "        return self.price * (1-discount)\n",
    "        "
   ]
  },
  {
   "cell_type": "code",
   "execution_count": 8,
   "id": "353286a2",
   "metadata": {},
   "outputs": [
    {
     "name": "stdout",
     "output_type": "stream",
     "text": [
      "1200\n"
     ]
    }
   ],
   "source": [
    "new_shirt = Shirt(\"Blue\",\"long_sleeved\",1200,\"Medium\")\n",
    "print(new_shirt.price)"
   ]
  },
  {
   "cell_type": "code",
   "execution_count": 9,
   "id": "741f52af",
   "metadata": {},
   "outputs": [
    {
     "data": {
      "text/plain": [
       "960.0"
      ]
     },
     "execution_count": 9,
     "metadata": {},
     "output_type": "execute_result"
    }
   ],
   "source": [
    "new_shirt.discount(0.2)"
   ]
  },
  {
   "cell_type": "code",
   "execution_count": 10,
   "id": "398fb7fd",
   "metadata": {},
   "outputs": [],
   "source": [
    "shirt_collection = []\n",
    "\n",
    "nike_shirt =Shirt(\"Black\",\"Short_sleeved\",2500,\"Large\")\n",
    "puma_shirt = Shirt(\"Gray\",\"Long_sleeved\",2000,\"Small\")\n"
   ]
  },
  {
   "cell_type": "code",
   "execution_count": 12,
   "id": "96de372d",
   "metadata": {},
   "outputs": [],
   "source": [
    "shirt_collection.append(new_shirt)\n",
    "shirt_collection.append(nike_shirt)\n",
    "shirt_collection.append(puma_shirt)"
   ]
  },
  {
   "cell_type": "code",
   "execution_count": 18,
   "id": "3cab6539",
   "metadata": {},
   "outputs": [
    {
     "name": "stdout",
     "output_type": "stream",
     "text": [
      "Blue  long_sleeved  1200  Medium\n",
      "Black  Short_sleeved  2500  Large\n",
      "Gray  Long_sleeved  2000  Small\n"
     ]
    }
   ],
   "source": [
    "for items in range(len(shirt_collection)):\n",
    "    print(shirt_collection[items].color+\"  \"+ shirt_collection[items].style+\"  \" + str(shirt_collection[items].price)+\"  \" + shirt_collection[items].size)\n"
   ]
  },
  {
   "cell_type": "code",
   "execution_count": null,
   "id": "49d37c29",
   "metadata": {},
   "outputs": [],
   "source": []
  }
 ],
 "metadata": {
  "kernelspec": {
   "display_name": "Python 3 (ipykernel)",
   "language": "python",
   "name": "python3"
  },
  "language_info": {
   "codemirror_mode": {
    "name": "ipython",
    "version": 3
   },
   "file_extension": ".py",
   "mimetype": "text/x-python",
   "name": "python",
   "nbconvert_exporter": "python",
   "pygments_lexer": "ipython3",
   "version": "3.9.12"
  }
 },
 "nbformat": 4,
 "nbformat_minor": 5
}
